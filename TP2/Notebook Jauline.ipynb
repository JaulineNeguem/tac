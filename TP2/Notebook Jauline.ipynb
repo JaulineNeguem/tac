{
 "cells": [
  {
   "cell_type": "markdown",
   "metadata": {},
   "source": [
    "# Extraction de Keywords"
   ]
  },
  {
   "cell_type": "markdown",
   "metadata": {},
   "source": [
    "## Imports"
   ]
  },
  {
   "cell_type": "code",
   "execution_count": 24,
   "metadata": {},
   "outputs": [],
   "source": [
    "import os\n",
    "import yake"
   ]
  },
  {
   "cell_type": "markdown",
   "metadata": {},
   "source": [
    "## Extraction des mots clés de notre corpus CAMille avec Yake"
   ]
  },
  {
   "cell_type": "markdown",
   "metadata": {},
   "source": [
    "https://github.com/LIAAD/yake"
   ]
  },
  {
   "cell_type": "code",
   "execution_count": 25,
   "metadata": {},
   "outputs": [
    {
     "data": {
      "text/plain": [
       "<yake.yake.KeywordExtractor at 0x10d9f9c90>"
      ]
     },
     "execution_count": 25,
     "metadata": {},
     "output_type": "execute_result"
    }
   ],
   "source": [
    "# Instantier l'extracteur de mots clés\n",
    "kw_extractor = yake.KeywordExtractor(lan=\"fr\", top=50)\n",
    "kw_extractor"
   ]
  },
  {
   "cell_type": "code",
   "execution_count": 26,
   "metadata": {},
   "outputs": [],
   "source": [
    "# Lister les Fichiers\n",
    "data_path = \"../data/txt/\"\n",
    "files = os.listdir(data_path)"
   ]
  },
  {
   "cell_type": "code",
   "execution_count": 27,
   "metadata": {},
   "outputs": [
    {
     "data": {
      "text/plain": [
       "7936"
      ]
     },
     "execution_count": 27,
     "metadata": {},
     "output_type": "execute_result"
    }
   ],
   "source": [
    "# Imprimer le nombre de fichiers identifiés\n",
    "len(files)"
   ]
  },
  {
   "cell_type": "markdown",
   "metadata": {},
   "source": [
    "## L'année que nous avons sélectionné est 1969"
   ]
  },
  {
   "cell_type": "code",
   "execution_count": 21,
   "metadata": {},
   "outputs": [
    {
     "data": {
      "text/plain": [
       "['KB_JB838_1969-08-14_01-00024.txt',\n",
       " 'KB_JB838_1969-11-22_01-00033.txt',\n",
       " 'KB_JB838_1969-02-16_01-00031.txt',\n",
       " 'KB_JB838_1969-02-27_01-00032.txt',\n",
       " 'KB_JB838_1969-07-12_01-00020.txt',\n",
       " 'KB_JB838_1969-04-29_01-00016.txt',\n",
       " 'KB_JB838_1969-11-04_01-00014.txt',\n",
       " 'KB_JB838_1969-03-19_01-00003.txt',\n",
       " 'KB_JB838_1969-11-21_01-00010.txt',\n",
       " 'KB_JB838_1969-12-09_01-00022.txt',\n",
       " 'KB_JB838_1969-05-21_01-00026.txt',\n",
       " 'KB_JB838_1969-02-05_01-00021.txt',\n",
       " 'KB_JB838_1969-08-02_01-00007.txt',\n",
       " 'KB_JB838_1969-04-29_01-00007.txt',\n",
       " 'KB_JB838_1969-07-20_01-00005.txt',\n",
       " 'KB_JB838_1969-08-21_01-00014.txt',\n",
       " 'KB_JB838_1969-03-18_01-00014.txt',\n",
       " 'KB_JB838_1969-05-22_01-00017.txt',\n",
       " 'KB_JB838_1969-03-28_01-00005.txt',\n",
       " 'KB_JB838_1969-08-10_01-00017.txt',\n",
       " 'KB_JB838_1969-02-22_01-00011.txt',\n",
       " 'KB_JB838_1969-10-28_01-00008.txt',\n",
       " 'KB_JB838_1969-04-09_01-00026.txt',\n",
       " 'KB_JB838_1969-04-12_01-00007.txt',\n",
       " 'KB_JB838_1969-04-02_01-00021.txt',\n",
       " 'KB_JB838_1969-10-24_01-00026.txt',\n",
       " 'KB_JB838_1969-05-29_01-00013.txt',\n",
       " 'KB_JB838_1969-04-10_01-00009.txt',\n",
       " 'KB_JB838_1969-03-02_01-00018.txt',\n",
       " 'KB_JB838_1969-10-15_01-00019.txt',\n",
       " 'KB_JB838_1969-09-11_01-00010.txt',\n",
       " 'KB_JB838_1969-06-17_01-00015.txt',\n",
       " 'KB_JB838_1969-10-31_01-00018.txt',\n",
       " 'KB_JB838_1969-12-14_01-00028.txt',\n",
       " 'KB_JB838_1969-01-05_01-00012.txt',\n",
       " 'KB_JB838_1969-06-26_01-00014.txt',\n",
       " 'KB_JB838_1969-01-04_01-00014.txt',\n",
       " 'KB_JB838_1969-09-11_01-00007.txt',\n",
       " 'KB_JB838_1969-04-11_01-00019.txt',\n",
       " 'KB_JB838_1969-04-01_01-00007.txt',\n",
       " 'KB_JB838_1969-05-29_01-00029.txt',\n",
       " 'KB_JB838_1969-04-03_01-00034.txt',\n",
       " 'KB_JB838_1969-06-22_01-00031.txt',\n",
       " 'KB_JB838_1969-01-11_01-00010.txt',\n",
       " 'KB_JB838_1969-06-01_01-00026.txt',\n",
       " 'KB_JB838_1969-04-13_01-00013.txt',\n",
       " 'KB_JB838_1969-10-26_01-00038.txt',\n",
       " 'KB_JB838_1969-03-25_01-00017.txt',\n",
       " 'KB_JB838_1969-06-26_01-00012.txt',\n",
       " 'KB_JB838_1969-08-09_01-00016.txt',\n",
       " 'KB_JB838_1969-10-26_01-00011.txt',\n",
       " 'KB_JB838_1969-10-15_01-00020.txt',\n",
       " 'KB_JB838_1969-09-26_01-00010.txt',\n",
       " 'KB_JB838_1969-12-17_01-00002.txt',\n",
       " 'KB_JB838_1969-04-02_01-00014.txt',\n",
       " 'KB_JB838_1969-04-13_01-00035.txt',\n",
       " 'KB_JB838_1969-01-15_01-00017.txt',\n",
       " 'KB_JB838_1969-04-27_01-00011.txt',\n",
       " 'KB_JB838_1969-03-02_01-00005.txt',\n",
       " 'KB_JB838_1969-03-11_01-00003.txt',\n",
       " 'KB_JB838_1969-03-22_01-00018.txt',\n",
       " 'KB_JB838_1969-09-11_01-00027.txt',\n",
       " 'KB_JB838_1969-10-01_01-00028.txt',\n",
       " 'KB_JB838_1969-11-29_01-00012.txt',\n",
       " 'KB_JB838_1969-04-13_01-00023.txt',\n",
       " 'KB_JB838_1969-10-17_01-00020.txt',\n",
       " 'KB_JB838_1969-03-25_01-00025.txt',\n",
       " 'KB_JB838_1969-04-22_01-00021.txt',\n",
       " 'KB_JB838_1969-10-02_01-00009.txt',\n",
       " 'KB_JB838_1969-03-06_01-00022.txt',\n",
       " 'KB_JB838_1969-09-05_01-00024.txt',\n",
       " 'KB_JB838_1969-10-30_01-00013.txt',\n",
       " 'KB_JB838_1969-10-24_01-00029.txt',\n",
       " 'KB_JB838_1969-01-22_01-00015.txt',\n",
       " 'KB_JB838_1969-02-09_01-00007.txt',\n",
       " 'KB_JB838_1969-04-30_01-00018.txt',\n",
       " 'KB_JB838_1969-04-10_01-00006.txt',\n",
       " 'KB_JB838_1969-06-12_01-00029.txt',\n",
       " 'KB_JB838_1969-03-01_01-00023.txt',\n",
       " 'KB_JB838_1969-12-30_01-00018.txt',\n",
       " 'KB_JB838_1969-03-06_01-00021.txt',\n",
       " 'KB_JB838_1969-04-25_01-00026.txt',\n",
       " 'KB_JB838_1969-06-11_01-00023.txt',\n",
       " 'KB_JB838_1969-12-20_01-00003.txt',\n",
       " 'KB_JB838_1969-12-07_01-00008.txt',\n",
       " 'KB_JB838_1969-10-21_01-00018.txt',\n",
       " 'KB_JB838_1969-04-01_01-00018.txt',\n",
       " 'KB_JB838_1969-02-07_01-00019.txt',\n",
       " 'KB_JB838_1969-05-01_01-00032.txt',\n",
       " 'KB_JB838_1969-05-30_01-00025.txt',\n",
       " 'KB_JB838_1969-10-19_01-00011.txt',\n",
       " 'KB_JB838_1969-05-31_01-00020.txt',\n",
       " 'KB_JB838_1969-11-06_01-00013.txt',\n",
       " 'KB_JB838_1969-11-21_01-00024.txt',\n",
       " 'KB_JB838_1969-06-19_01-00007.txt',\n",
       " 'KB_JB838_1969-10-29_01-00001.txt',\n",
       " 'KB_JB838_1969-05-17_01-00029.txt',\n",
       " 'KB_JB838_1969-04-18_01-00025.txt',\n",
       " 'KB_JB838_1969-11-04_01-00019.txt',\n",
       " 'KB_JB838_1969-04-08_01-00014.txt']"
      ]
     },
     "execution_count": 21,
     "metadata": {},
     "output_type": "execute_result"
    }
   ],
   "source": [
    "# Choix des fichiers de l'année sélectionnée\n",
    "this_file = [f for f in files if '1969' in f]\n",
    "this_file"
   ]
  },
  {
   "cell_type": "markdown",
   "metadata": {},
   "source": [
    "## Le nombre de fichiers total sélectionnés"
   ]
  },
  {
   "cell_type": "code",
   "execution_count": 29,
   "metadata": {},
   "outputs": [
    {
     "data": {
      "text/plain": [
       "100"
      ]
     },
     "execution_count": 29,
     "metadata": {},
     "output_type": "execute_result"
    }
   ],
   "source": [
    "#afficher le nombre de fichiers de cette année\n",
    "len(this_file)"
   ]
  },
  {
   "cell_type": "code",
   "execution_count": 33,
   "metadata": {},
   "outputs": [],
   "source": [
    "# Récupération des textes de tous les fichiers de cette année \n",
    "text = \"\" \n",
    "for f in this_file: file_path = os.path.join(data_path, f) \n",
    "with open(file_path, 'r', encoding='utf-8') as f:\n",
    "\n",
    "    text += f.read() "
   ]
  },
  {
   "cell_type": "markdown",
   "metadata": {},
   "source": [
    "## Extraction des mots clés et conservation des bigrammes"
   ]
  },
  {
   "cell_type": "code",
   "execution_count": 31,
   "metadata": {},
   "outputs": [
    {
     "name": "stdout",
     "output_type": "stream",
     "text": [
      "KB_JB838_1969-01-04_01-00014.txt mentions these keywords: Fds Rtes, TITRES COURS, PRECOMPTE SNCB, Rand Mines, act. act, PRECOMPTE Anvers, COURS COURS, PRECOMPTE Gand, Bruxelles VENDREDI, lots Lots, JANVIER Marché, Gand Liège, PRECOMPTE DEDUIT...\n",
      "KB_JB838_1969-01-05_01-00012.txt mentions these keywords: satisfaction Victorieuse, LESblR fîDIMANCH, résultats inespérés, prévu Bremerhaven, l'équipe féminine, Gantoise Braem, Grand prix, Attelé Jos...\n",
      "KB_JB838_1969-01-11_01-00010.txt mentions these keywords: DIVISION III, Racing White, Soft SAMEDI, samedi soir, Léo Proost, Van Laneker, Léopold Club...\n",
      "KB_JB838_1969-01-15_01-00017.txt mentions these keywords: janvier Messieurs, RENTE VIAGERE, OFFICE PROPRIETAIRES, WATERLOO Villa, VENTE PUBLIQUE...\n",
      "KB_JB838_1969-01-22_01-00015.txt mentions these keywords: Volkswagen qu’on, seulement parce, c’est précisément, gamme Volkswagen, Solide dose, MONDE IMPORTATEUR, MEILLEURS ANCIENS, ANCIENS ETABLISSEMENTS, ETABLISSEMENTS AGENTS, BELGIQUE DTETEREN, DTETEREN FRERES, nouvelles Automatic, MEILLEUR RESEAU-SERVICE...\n",
      "KB_JB838_1969-02-05_01-00021.txt mentions these keywords: bons gages, Dem. fem, XXXXXXXX XXXXXXXX, DEMANDE FEMME, DEM. mén, REPOS dem...\n",
      "KB_JB838_1969-02-07_01-00019.txt mentions these keywords: curriculum vitae, DOUBLE DIAMOND, BRUXELLES ENGAGE, PORTE LOUISE, Diamond Pale, Agence Rossel, Pale Ale, fiat mblé, bel app, Louise fiat...\n",
      "KB_JB838_1969-02-09_01-00007.txt mentions these keywords: méharistes toubbous, présentation L’histoire,de, NOTES PARISIENNES, nomades toubbous, capitaine égyptien, amateurs d’opéra, éthiopienne d’Amnéris, Hyman Bress...\n",
      "KB_JB838_1969-02-16_01-00031.txt mentions these keywords: l’Agence Rossel, Agence Rossel, OPERATIONS MANAGER, GOODYEAR INTERNATIONAL, Offre manuscrite, Faire offre, Services and, INTERNATIONAL CORPORATION, Computer Services, service militaire, JEUNE ELEMENT, EMPLOYEE DACTYLO, Data Processing...\n",
      "KB_JB838_1969-02-22_01-00011.txt mentions these keywords: Real Madrid, Diables rouges, joueurs belges, Belgique manquait, championnats provinciaux, match Belgique, remise générale, Van Himst, remises Football...\n",
      "KB_JB838_1969-02-27_01-00032.txt mentions these keywords: SOIR JEUDI, EDITION PARUE, DERNIERE EDITION, William Wyler, Barbra Streisand, Omar Sharif, Mister Freedom, Claude Berri, Film policier, William Klein, petite Barbra, Marie Vetsera, Clint Eastwood, Lee Cobb, bon film, FENNY GIRL, Funny Girl, Jack Palance...\n",
      "KB_JB838_1969-03-01_01-00023.txt mentions these keywords: app. mod, EVERE App, TOR LINE, bel app, vendre app...\n",
      "KB_JB838_1969-03-02_01-00005.txt mentions these keywords: Semaine belge, Travaux publics, Presse belge, conseil communal, réellement impression, aiix pro, réservé aiix, Roger Stengele, symposium international, d’un Chinois...\n",
      "KB_JB838_1969-03-02_01-00018.txt mentions these keywords: VENTE PUBLIQUE, Marten Toonder, Elisafaiéth Brozowska, MAISON D’HABITATION, notaires vendeurs, ADJUDICATION DEFINITIVE, rue Montagne...\n",
      "KB_JB838_1969-03-06_01-00021.txt mentions these keywords: Faire offre, l’Agence Rossel, JEUQI MARS, Agence Rossel, VEN ILIA, curriculum vitae, ans maximum, Havas Bruxelles, MAX BRUXELLES, demande EMPLOYE, Agence Havas...\n",
      "KB_JB838_1969-03-06_01-00022.txt mentions these keywords: Agence Rossel, l’Agence RosseL, SUPER DELHAIZE, BRUXELLES engage, VENDEUSES Semaine, USINE BRUXELLES, Engage Immédiatement...\n",
      "KB_JB838_1969-03-11_01-00003.txt mentions these keywords: général Riad, VACTUALITÉ INTERNATIONALE, PRÉSIDENT AYOUB, AYOUB KHAN, Mgr Tarancon, SOIR VACTUALITÉ, marché commun, Caire Londres, NEW YORK, hommes politiques, Moneim Riad, dimanche soir, Primat d’Espagne...\n",
      "KB_JB838_1969-03-18_01-00014.txt mentions these keywords: Division III, SPARTAK BRNO, Coupe d’Europe, Real Madrid, Général Thys, match Belgique, ANVERS DIVISION...\n",
      "KB_JB838_1969-03-19_01-00003.txt mentions these keywords: Conseil d’Etat, ACTUALITÉ INTERNATIONALE, sécurité européenne, pays européens, Etats membres, conférence paneuropéenne, conférence mondiale, PREMIERE PAGEJ, lundi soir, Etats européens, VARSOVIE proposent...\n",
      "KB_JB838_1969-03-22_01-00018.txt mentions these keywords: MEILLEUR RESEAU-SERViCE, IETEREN FRERES, belle villa, vente publique...\n",
      "KB_JB838_1969-03-25_01-00017.txt mentions these keywords: Liège Liège, Gand Gand, CADG CADG, COURS COURS, PRECOMPTE SNCB, Gand Liège, 62-82 Emp, PRECOMPTE DEDUIT, SOIR Bourse, JOUR COURS, COURS PRECEO...\n",
      "KB_JB838_1969-03-25_01-00025.txt mentions these keywords: SHIPPINGSPECIÂUST Unusually, Invehtory Control, Curriculum Vitae, l’Agence ROSSEL, MANtJFACTURING CORPORATION, Unusually interesting, American MANtJFACTURING, end Involclng, Control end, and SHIPPINGSPECIÂUST, Involclng and, SOIR INVENTORY, Extensive expérience, JEUNE EMPLOYEE, Bruxelles recherche...\n",
      "KB_JB838_1969-03-28_01-00005.txt mentions these keywords: tunnel ferroviaire, côté italien, côté suisse, Jules César, tunnels d’accès, d’une autoroute, Pair vicié, d’un tunnel, Le’ tunnel, Grands Chiens...\n",
      "KB_JB838_1969-04-01_01-00007.txt mentions these keywords: Catherine Deneuve, Jean Béranger, Jean Freustié, Bibliothèque publique, Festival Ballet, l’abbé Leveau, petites bibliothèques, parce qu’il...\n",
      "KB_JB838_1969-04-01_01-00018.txt mentions these keywords: Bel app, Lux. app, louer villa...\n",
      "KB_JB838_1969-04-02_01-00014.txt mentions these keywords: TIENT LIEU, AVIS TIENT, Serglo CORRIDORI, Madame Roberto, Madame Mauro, Madame Paul, Mauro BIANCHI, Madame Jean, faire part, MADAME VEUVE, Madame André...\n",
      "KB_JB838_1969-04-02_01-00021.txt mentions these keywords: L’AGENCE ROSSEL, Bar dem, Agence Rossel, dames dem, MALE EMPLOYEES, curriculum vitae, DEMANDE BRUXELLES, BRUXELLES demande...\n",
      "KB_JB838_1969-04-03_01-00034.txt mentions these keywords: SOIR JEUDI, EDITION PARUE, DERNIERE EDITION, David Niven, Qaelieque soitTheuro, Raquel Welch, Paul Frankeur, film Patton, Jim Brown, Voie lactée, théologien janséniste, Omar Bradley, L’HISTOIRE D’UN, VOIE Fantasmagories, Daniela Surina, Elda Tattoli, d’un professeur, CHRISTINE FERRARE...\n",
      "KB_JB838_1969-04-08_01-00014.txt mentions these keywords: Van Springel, Van Paesschen, Van Damme, Van Sweevelt, Van Schil, Van Looy, Van den, Van Clooster, Van Loo, LIMBOURG SERIE, DIVISION III, Seniors chevaux...\n",
      "KB_JB838_1969-04-09_01-00026.txt mentions these keywords: CONSTRUCTIONS REALISEES, Agence Rossel, L’AGENCE ROSSEL, Avenue Defré, Avenue Neptune, Bnigmann Avenue, Bonniers Avenue, Ecrire Agence, bel app, Avennes Molière, GRANDES FACILITES, CCLI Proxim, APPARTEMENTS CHAMBRES...\n",
      "KB_JB838_1969-04-10_01-00006.txt mentions these keywords: faire part, Marie VAN, MONSIEUR Robert, VAN HUMBEECK, Madame Marcel, Monsieur Marcel, Madame Veuve, Ingénieur Civil, MONSIEUR LANTREMANGE, profonde douleur, MONSIEUR Lein, Madame Maurice...\n",
      "KB_JB838_1969-04-10_01-00009.txt mentions these keywords: Alberto Alonso, THEATRE NATIONAL, with People, Opéra National, THEATRE FLAMAND, Jean Marc, Ancienne Belgique, chorégraphies d’Alicia, rue Potagère, Cap Nord...\n",
      "KB_JB838_1969-04-11_01-00019.txt mentions these keywords: VENDREDI M'AVRIL, Gulf Extra, Extra Service, nouveau symbole, Crédit total, GODINNE Terr, GANSHOREN Terr...\n",
      "KB_JB838_1969-04-12_01-00007.txt mentions these keywords: Ballet national, Léon Frédéricq, rideau rouge, fèvâricfi'e die, die ITrouillëbërt, succès actuel, Grand Ballet, René Daumal, Boris Godounov, Gustave Boddaert, d’un casque...\n",
      "KB_JB838_1969-04-13_01-00013.txt mentions these keywords: Van Hex, Van Laecke, Van der, Van den, Van Merode, Van Acker, Van Merodè, SItë sfta’i, Van Hees, Van Opdôrp, quartsdefinqlede laCoupe, Van Opdorp, Van Heés, Van Làecke.et, Van Hlmst, Van Wil, Van Sevenant, coup franc, Van Duyvenbode, Van Rensbergen...\n",
      "KB_JB838_1969-04-13_01-00023.txt mentions these keywords: LUNDI Ifr’AVRIE, ETRiMO Cap, LUXUEUX APPARTEMENTS, Square APPARTEMENT, Angle rue...\n",
      "KB_JB838_1969-04-13_01-00035.txt mentions these keywords: iTgiiiixiiiïiiiizrxmiiggTTx IMPORTAOTIABORATOIREFRANÇAIS, BILINGUE Agée, belge JEÛNES, l’Agence Rossel, EMPLOYEE BILINGUE, JEUNE EMPLOYE, Faire offre, parfaitement bilingue, IMPORTANTE SOCIETE, DELEGUE COMMERCIAL, engage immédiatement, JEUNE DELEGUE...\n",
      "KB_JB838_1969-04-18_01-00025.txt mentions these keywords: Bar dem, Agence Rossel, l’Agence Rossel, Faire offre, Bruxelles dem, Bruxelles Centre, Ets Vanderborght, Bons salaires, Demande serveuse...\n",
      "KB_JB838_1969-04-22_01-00021.txt mentions these keywords: JUS ieu, ieu ire, Cours préparant, Notaires van, Bld Documents, LONDRES Cours...\n",
      "KB_JB838_1969-04-25_01-00026.txt mentions these keywords: usages possibles, splendide collection, CREME GLACEE, curriculum vitae, économique Omo, DACTYLO BILINGUE, JEUNE FILLE, Guillaume Huysmans, beaux papillons, vrai papillon, Bonne rémunération, A.BpNNE CREME, immédiate ELEMENT, FILLES BILINGUES, bilingue pariait, GLACEE engage, EMPLOYEE BILINGUE, BRUXELLES Jeunes, JEUNES FILLES...\n",
      "KB_JB838_1969-04-27_01-00011.txt mentions these keywords: Racing White, équipes Goals, Van Damme, Van Merode, but malinois, but liégeois, but fut...\n",
      "KB_JB838_1969-04-29_01-00007.txt mentions these keywords: Georges Lecointe, professeur Prigogine, recherche scientifique, Arrhenius C’est, Paul Tillich...\n",
      "KB_JB838_1969-04-29_01-00016.txt mentions these keywords: jeunes filles, SIMPLE JEUNES, Van Pelt, Van Rooy, Van Steenbergen, jeunes XIII, fin avril, Van Riel, Prix Pontillasse, Knops Mme...\n",
      "KB_JB838_1969-04-30_01-00018.txt mentions these keywords: Costa Brava, DOUBLES MANCHETTES...\n",
      "KB_JB838_1969-05-01_01-00032.txt mentions these keywords: curriculum vitae, l’Agence Rossel, BRUXELLES DEMANDE, vitae Service, Bruxelles DACTYLOS, ANS ECRIRE, services administratifs, BRUXELLES AVIS, Service Personnel, DACTYLO bilingues, EXPANSION BRUXELLES, SOIR JEUDI, ACIERS BRUXELLES, machine Ruf...\n",
      "KB_JB838_1969-05-17_01-00029.txt mentions these keywords: curriculum vitae, Agence Rossel, l’Agence Rossel, Importante société, Advertising Department, importante firme, DACTYLO BILINGUE, Age maximum, URGENT Sommes, EMPLOYEE DACTYLO, Ecrire Agence, and Advertising, and distribution...\n",
      "KB_JB838_1969-05-21_01-00026.txt mentions these keywords: Agence Rossel, curriculum vitae, Ecrire Agence, Faire offre, SOIR MERCREDI...\n",
      "KB_JB838_1969-05-22_01-00017.txt mentions these keywords: différants typas, C’est l’Ami, êtes jeune, êtes dynamique, Primula AutoblanchI, êtes simplement, êtes économe, direction assistée, êtes marié, êtes père...\n",
      "KB_JB838_1969-05-29_01-00013.txt mentions these keywords: Actuellement Dixan, Dixan offre...\n",
      "KB_JB838_1969-05-29_01-00029.txt mentions these keywords: Van Laethem, bureau Van, rens. tél, présenter tél, repos dem, dames dem, Bruxelles dem, Bons gages...\n",
      "KB_JB838_1969-05-30_01-00025.txt mentions these keywords: l’Agence Rossel, Agence Rossel, Bruxelles demande, dames dem, BRUXELLES dem, DACTYLO BILINGUE, Rossel num, l’Ag Rossel, DEMANDE BON...\n",
      "KB_JB838_1969-05-31_01-00020.txt mentions these keywords: louer Villa, terrain boisé, Belle villa, Frs Tél, Frs Vis...\n",
      "KB_JB838_1969-06-01_01-00026.txt mentions these keywords: curriculum vitae, som DIMANCHE, MOTOR CORPORATION, BRITISH MOTOR, Louise BRUXELLES, FIRME INTERNATIONALE, ASTRA CHEMICALS, Société Internationale, Bruxelles dem, ENVOYER CURRICULUM, Bardanes BRUXELLES, Groupe International, Bruxelles DELEGUEES, Rogier Bruxelles, avenue Louise...\n",
      "KB_JB838_1969-06-11_01-00023.txt mentions these keywords: Elisabeth Brozowska, curriculum vitae, Marten Toonder, CAOUTCHOUC ENGAGE, l’Agence Rossel, Bonne rémunération, ASSURANCES BRUXELLES...\n",
      "KB_JB838_1969-06-12_01-00029.txt mentions these keywords: SOIR Importateur, BAR dem, Agence Rossel, dames dem, l’Agence Rossel, Bruxelles Brux, Uccle dem, Faire offre, SECRETAIRE franç....\n",
      "KB_JB838_1969-06-17_01-00015.txt mentions these keywords: Liège Liège, FNRS FNRS, PRECOMPTE SNCB, barré att, CADG CADG, PRECOMPTE DEDUIT...\n",
      "KB_JB838_1969-06-19_01-00007.txt mentions these keywords: lapin chinchilla, Code civil, propriétaire d’une, région parisienne...\n",
      "KB_JB838_1969-06-22_01-00031.txt mentions these keywords: INGENIEURS CIVILS, curriculum vitae, INGENIEUR TECHNICIEN, IMPORTANT GROUPE, EUROPE INC, HONEYWELL EUROPE, GROUPE INDUSTRIEL, INGENIEURS COMMERCIAUX, van een, BRUXELLES recherche...\n",
      "KB_JB838_1969-06-26_01-00012.txt mentions these keywords: DEPARTS Van, Van Looy, simple messieurs, Vau Looy, Van Schoonbeek, ARRIVEES Van, départ Kik, Van Lommel, frAnceI Van, Van Nee, Van Vlaanderen, DEPARTS Néant, Crossing ARRIVEES, Rik Van, Georges Van...\n",
      "KB_JB838_1969-06-26_01-00014.txt mentions these keywords: tient lieu, avis tient, MADAME VEUVE, faire part, VAN SLIJPE, Madame Jean, Madame Robert, Madame Albert, Madame Paul, MONSIEUR Albert, Madame Claude...\n",
      "KB_JB838_1969-07-12_01-00020.txt mentions these keywords: App. mod, bel app, lux. app, Porte Louise...\n",
      "KB_JB838_1969-07-20_01-00005.txt mentions these keywords: Edwin Aldrin, Neil Armstrong, von Braun, Wernher von, dimanche soir, astronautes américains, petits écrans, supérieure Lune, bière Lune...\n",
      "KB_JB838_1969-08-02_01-00007.txt mentions these keywords: ENVOYE SPECIAL, PREMIERE MONDIALE, Robert Stolz, rouge PREMIERE, présentation rutilante, rideau rouge, Duke Ellington, SEMAINES INTERNATIONALES, grand spectacle, Jules Gilson...\n",
      "KB_JB838_1969-08-09_01-00016.txt mentions these keywords: Joël Robert, Super Silver, fermette basse, WATERLOO Villa, Robert Ignorait, prix Tél...\n",
      "KB_JB838_1969-08-10_01-00017.txt mentions these keywords: jolie villa, Belle VILLA, chff. maz, villa mod, villa Brux...\n",
      "KB_JB838_1969-08-14_01-00024.txt mentions these keywords: VANDEN BOUDE, dem. fem, demande Femmes, JEUNES FILLES, Ets VANDEN, dem fem, Bar dem...\n",
      "KB_JB838_1969-08-21_01-00014.txt mentions these keywords: SOIR JEUDI, Séquelles d'une, Banque Nationale, New York, Nationale Séquelles, production belge, francs belges, FINANCE BOURSE, BOURSE INDUSTRIELLE, Fonds monétaire...\n",
      "KB_JB838_1969-09-05_01-00024.txt mentions these keywords: servante Int, demande TOLIERS, servante interne, CONDITIONNEMENT D’AIR, BAR dem, Bruxelles dem, Bons gages, dames dem...\n",
      "KB_JB838_1969-09-11_01-00007.txt mentions these keywords: Stijn Streuvels, productions belges, jeune théâtre, Nicole Lepage, Fédération belge...\n",
      "KB_JB838_1969-09-11_01-00010.txt mentions these keywords: Van Himst, Eddy Merckx, Van Moer, Fernand Wambst, SOIR JEUDI, Van Der, Mardi soir, Van Looy, Belge Van, Mercredi soir, d'une chute...\n",
      "KB_JB838_1969-09-11_01-00027.txt mentions these keywords: Shorthand Typists, CURRICULUM VITAE, tti Headquarbf, Typists for, l’Agence Rossel, Bruxelles engage, Envoyer curriculum, FAIRE OFFRE, INGENIEUR TECHNICIEN, IMPORTANTE SOCIETE, for tti...\n",
      "KB_JB838_1969-09-26_01-00010.txt mentions these keywords: THEATRE NATIONAL, CENTRE AMBASSADOR, petite salle, Grand film, Cirque Royal, Location ouverte, THEATRE FLAMAND, CENTRE CULTUREL, Light Show, Richard Burton, Petite musique...\n",
      "KB_JB838_1969-10-01_01-00028.txt mentions these keywords: SOIR MERCREDI, Alphonse Daudet, Barbara MOLINARD, EDITION PARUE, DERNIERE EDITION, aott l’heur, Croix Blanche, Alice RIVAZ, David FROST...\n",
      "KB_JB838_1969-10-02_01-00009.txt mentions these keywords: THE WEST, SERGIO LEONE, LEONE CLAUDIO, CLAUDIO CARDINALE, CARDINALE HENRYFONDA, HENRYFONDA JASON, JASON BOBARDS, arrêté royal, Cirque Royal, SsBOURG DISTRIBUÉ, CAMEO seul, DANSL'OUEST ONCEUPOHA, petite salle, BOBARDS CHARLES, CHARLES BRONSON, Metropolitan film, film CAMEO, THEATRE NATIONAL, ONCEUPOHA TIME...\n",
      "KB_JB838_1969-10-15_01-00019.txt mentions these keywords: ...\n",
      "KB_JB838_1969-10-15_01-00020.txt mentions these keywords: bel app, Lux. app, Spac. app, Beaux appartements, Basilique app, vendre app, louer app, ler étage, SOIR Apprenez...\n",
      "KB_JB838_1969-10-17_01-00020.txt mentions these keywords: lance Fopération, Porte Louise, Lux. app, Fopération dents, blanches ENTREPRENEUR, bel app, app. lux, Face parc...\n",
      "KB_JB838_1969-10-19_01-00011.txt mentions these keywords: but yougoslave, Van Himst, équipes Goals, Van Moer, Van Damme, Finlande Belgique, Yougoslavie Finlande, SOIR FOOTBALL, joueurs belges, second but, Van Oirbeek...\n",
      "KB_JB838_1969-10-21_01-00018.txt mentions these keywords: Banque Lambert, Bank Nederland, bonne qualité, banque belge, francs belges, THÉO LEFÈVRE, Cie Lambert, lins teilles, qualité supérieure, qualité moyenne, banques belges...\n",
      "KB_JB838_1969-10-24_01-00026.txt mentions these keywords: Prix Normal, PRIX RECLAMES, valeur dem, PRIX CASSES, FIRME IMPORTANTE, MAITRE D'HOTEL, BRUXELLES DEMANDE, RECLAMES Cardigan-col, PRIX réclamé, bon salaire, Twin-set Jftahtoned, dem chauffeur...\n",
      "KB_JB838_1969-10-24_01-00029.txt mentions these keywords: Bruxelles Tél, Opel Kadett, Bel état...\n",
      "KB_JB838_1969-10-26_01-00011.txt mentions these keywords: équipes Goals, Crossing fut, Dos Santos, Van Mol, PROMOTION SERIE, Willy Tuyaerts...\n",
      "KB_JB838_1969-10-26_01-00038.txt mentions these keywords: bons gages, Agence Rossel, Dames dem, Bons salaires, servante int, dem bons...\n",
      "KB_JB838_1969-10-28_01-00008.txt mentions these keywords: Super Prlba, petits enfants, fille unique, Montagne Tél, Papillon Tél, Poch Tél, ÇONSEILS PRATIQUES, qu’il faut, Prlba Halles, Prlba Marie, Prlba Mutsaert, femme moderne, petit meuble...\n",
      "KB_JB838_1969-10-29_01-00001.txt mentions these keywords: CHEQUES POSTAUX, Soir ijlustri...\n",
      "KB_JB838_1969-10-30_01-00013.txt mentions these keywords: Jeu radiophonique, GRAND PRIX, TELEVISION NOUVEAU, NOUVEAU MOIEUR, Grands récitals, EfüabéHi Brozowsk, Musique concer, PUISSANCE ACCRUE...\n",
      "KB_JB838_1969-10-31_01-00018.txt mentions these keywords: tonne longue, CHRONIQUE FISCALE, d’un habitant, SOIR VENDREDI, d’une société...\n",
      "KB_JB838_1969-11-04_01-00014.txt mentions these keywords: MONSIEUR JEAN, JEAN DEGROOF, avis tient, service funèbre, Madame Jean, tient lieu, faire part, rue Guimard, présent avis, tient Heu, DEGROOF survenu, Madame André, administrateur MONSIEUR...\n",
      "KB_JB838_1969-11-04_01-00019.txt mentions these keywords: app. mod, bel app, Bel appart, PEOPUttAIl Rég...\n",
      "KB_JB838_1969-11-06_01-00013.txt mentions these keywords: arrêté royal, Radio scolaire, l’arrêté royal, Télévision scolaire, musique classique, Programme scolaire, Programme varié, Lemonnier Bruxelles, RADIO Jeudi, Grands récitals, DEUXIEME CHAINE...\n",
      "KB_JB838_1969-11-21_01-00010.txt mentions these keywords: NBA Utt, ROBEftTFORSTER ANNA, AffôüK AIMEE, ANNA KARINA'PHIUPPE, DL’NX NBA, OPERA NATIONAL, Enf. admis, THEATRE FLAMAND, THEATRE NATIONAL, OEUMMNtt DÜfWîlL, NOIRET'MIGHAELVORK JOH.NVEJ, CHMl DL’NX, petite salle, DÜfWîlL AffôüK, KARINA'PHIUPPE NOIRET'MIGHAELVORK, Grand film, Georges Moustaki, Jean Tardieu, Théâtre National, THEATRE D’OPERETTE...\n",
      "KB_JB838_1969-11-21_01-00024.txt mentions these keywords: SOIR VENDREDI, Bar dem, VAN LINTHOUT, Beau Meuble, BEAUX TAPIS, ROMANE GRANO, GRAND CHOIX, GRANO RANGEMENT, STYLE REVERSIBLE, Lavallée Brux, STYLE BAR...\n",
      "KB_JB838_1969-11-22_01-00033.txt mentions these keywords: SOIE itt, itt Devenir, Devenir eccountant, BAR dem, Jne fille, BON OUVRIER, BONS OUVRIERS...\n",
      "KB_JB838_1969-11-29_01-00012.txt mentions these keywords: SOIR SAMEDI, Robert Laffont, Michel Gautier, principal souci, vaincre l’accoutumance, cercle Privé, jeunesse belge, jeunesse britannique, Jeunesse catholique, CHRONIQUES Pêches, leurres métalliques...\n",
      "KB_JB838_1969-12-07_01-00008.txt mentions these keywords: SOIR DIMANCHE, dommage moral, marche arrière, Cour d’appel, PAGE AUTO, cas d’accident, d’une manière, d’un accident, Groupe d’étude, admet communément, d’un véhicule...\n",
      "KB_JB838_1969-12-09_01-00022.txt mentions these keywords: REPRESENTANT Secteur, suite REPRESENTANT, curriculum vitae, SALONS engage, Bruxelles cherche, BRUXELLES engage, STENO DACTYLO, service militaire, avantages extra-légaux, l’Agence Rossel, BONNE STENO...\n",
      "KB_JB838_1969-12-14_01-00028.txt mentions these keywords: SOIR DIMANCHE, curriculum vitae, METHODE NOUVELLE, avenue Louise, SOIR Décidez-vous, DACTYLO BILINGUE, Importante société, profession féminine, société internationale, GROUPE INTERNATIONAL...\n",
      "KB_JB838_1969-12-17_01-00002.txt mentions these keywords: service actif, pacte scolaire, VAN BOGAERT, mardi soir, Dette publique, service militaire, cours d’une, l’Education nationale, d’un Fonds, Affaires économiques, Comité directeur...\n",
      "KB_JB838_1969-12-20_01-00003.txt mentions these keywords: Bonn Varsovie, négociations politiques, vendredi matin, vendredi soir, c’est Bonn, président Heinemann, milieux politiques, gouvernement polonais...\n",
      "KB_JB838_1969-12-30_01-00018.txt mentions these keywords: Agence Rossel, Lola Carlo, curriculum vitae, l’Agence Rossel, EMPLOYEE DACTYLO, Ecrire Agence, Centre Rogter, BRUXELLES demande, EMPLOYE BILINGUE, Rogter Tél., Rossel numéro...\n"
     ]
    }
   ],
   "source": [
    "for f in sorted(this_file):\n",
    "    text = open(os.path.join(data_path, f), 'r', encoding=\"utf-8\").read()\n",
    "    keywords = kw_extractor.extract_keywords(text)\n",
    "    kept = []\n",
    "    for kw, score in keywords:\n",
    "        words = kw.split()\n",
    "        if len(words) == 2:\n",
    "            kept.append(kw)\n",
    "    print(f\"{f} mentions these keywords: {', '.join(kept)}...\")"
   ]
  }
 ],
 "metadata": {
  "kernelspec": {
   "display_name": "Python 3.10.5 ('tac_venv': venv)",
   "language": "python",
   "name": "python3"
  },
  "language_info": {
   "codemirror_mode": {
    "name": "ipython",
    "version": 3
   },
   "file_extension": ".py",
   "mimetype": "text/x-python",
   "name": "python",
   "nbconvert_exporter": "python",
   "pygments_lexer": "ipython3",
   "version": "3.11.6"
  },
  "vscode": {
   "interpreter": {
    "hash": "b1932ab1d169b4769d1550e799423b6477588e745f266d79d9004c136c81607e"
   }
  }
 },
 "nbformat": 4,
 "nbformat_minor": 4
}
