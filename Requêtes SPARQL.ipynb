{
 "cells": [
  {
   "cell_type": "markdown",
   "metadata": {},
   "source": [
    "# Bases de connaissance : interroger Wikidata à l'aide de requêtes SPARQL"
   ]
  },
  {
   "cell_type": "markdown",
   "metadata": {},
   "source": [
    "## Imports"
   ]
  },
  {
   "cell_type": "code",
   "execution_count": 1,
   "metadata": {},
   "outputs": [],
   "source": [
    "from datetime import datetime as dt\n",
    "from SPARQLWrapper import SPARQLWrapper, JSON"
   ]
  },
  {
   "cell_type": "markdown",
   "metadata": {},
   "source": [
    "## Obtenir la liste des Journalistes belges\n"
   ]
  },
  {
   "cell_type": "code",
   "execution_count": 2,
   "metadata": {},
   "outputs": [
    {
     "name": "stdout",
     "output_type": "stream",
     "text": [
      "\n",
      "601 Belgian Journalists found\n",
      "\n",
      "[{'person': {'type': 'uri', 'value': 'http://www.wikidata.org/entity/Q2550826'}, 'personLabel': {'xml:lang': 'en', 'type': 'literal', 'value': 'Achille Chainaye'}, 'dateDeath': {'datatype': 'http://www.w3.org/2001/XMLSchema#dateTime', 'type': 'literal', 'value': '1915-12-20T00:00:00Z'}}, {'person': {'type': 'uri', 'value': 'http://www.wikidata.org/entity/Q179296'}, 'personLabel': {'xml:lang': 'en', 'type': 'literal', 'value': 'Achille Delattre'}, 'dateDeath': {'datatype': 'http://www.w3.org/2001/XMLSchema#dateTime', 'type': 'literal', 'value': '1964-07-13T00:00:00Z'}}, {'person': {'type': 'uri', 'value': 'http://www.wikidata.org/entity/Q16224177'}, 'personLabel': {'xml:lang': 'en', 'type': 'literal', 'value': 'Adolf Molter'}, 'dateDeath': {'datatype': 'http://www.w3.org/2001/XMLSchema#dateTime', 'type': 'literal', 'value': '1975-03-16T00:00:00Z'}}, {'person': {'type': 'uri', 'value': 'http://www.wikidata.org/entity/Q3605493'}, 'personLabel': {'xml:lang': 'en', 'type': 'literal', 'value': 'Adolphe Bartels'}, 'dateDeath': {'datatype': 'http://www.w3.org/2001/XMLSchema#dateTime', 'type': 'literal', 'value': '1862-01-01T00:00:00Z'}}, {'person': {'type': 'uri', 'value': 'http://www.wikidata.org/entity/Q2824797'}, 'personLabel': {'xml:lang': 'en', 'type': 'literal', 'value': 'Adolphe Cordier'}, 'dateDeath': {'datatype': 'http://www.w3.org/2001/XMLSchema#dateTime', 'type': 'literal', 'value': '1876-01-01T00:00:00Z'}}, {'person': {'type': 'uri', 'value': 'http://www.wikidata.org/entity/Q17428693'}, 'personLabel': {'xml:lang': 'en', 'type': 'literal', 'value': 'Adolphe Levae'}, 'dateDeath': {'datatype': 'http://www.w3.org/2001/XMLSchema#dateTime', 'type': 'literal', 'value': '1848-08-01T00:00:00Z'}}, {'person': {'type': 'uri', 'value': 'http://www.wikidata.org/entity/Q2824838'}, 'personLabel': {'xml:lang': 'en', 'type': 'literal', 'value': 'Adolphe-Marie Hardy'}, 'dateDeath': {'datatype': 'http://www.w3.org/2001/XMLSchema#dateTime', 'type': 'literal', 'value': '1954-06-19T00:00:00Z'}}, {'person': {'type': 'uri', 'value': 'http://www.wikidata.org/entity/Q13428386'}, 'personLabel': {'xml:lang': 'en', 'type': 'literal', 'value': 'Adri Hommerson'}, 'dateDeath': {'datatype': 'http://www.w3.org/2001/XMLSchema#dateTime', 'type': 'literal', 'value': '1952-01-01T00:00:00Z'}}, {'person': {'type': 'uri', 'value': 'http://www.wikidata.org/entity/Q2825136'}, 'personLabel': {'xml:lang': 'en', 'type': 'literal', 'value': 'Adrien Bruneau'}, 'dateDeath': {'datatype': 'http://www.w3.org/2001/XMLSchema#dateTime', 'type': 'literal', 'value': '1895-05-11T00:00:00Z'}}, {'person': {'type': 'uri', 'value': 'http://www.wikidata.org/entity/Q14870041'}, 'personLabel': {'xml:lang': 'en', 'type': 'literal', 'value': 'Adrien Jans'}, 'dateDeath': {'datatype': 'http://www.w3.org/2001/XMLSchema#dateTime', 'type': 'literal', 'value': '1973-09-24T00:00:00Z'}}]\n"
     ]
    }
   ],
   "source": [
    "# Retrieve results from SPARQL\n",
    "endpoint = \"https://query.wikidata.org/bigdata/namespace/wdq/sparql\"\n",
    "sparql = SPARQLWrapper(endpoint)\n",
    "\n",
    "# P27 = country of citizenship \n",
    "# Q31 = Belgium\n",
    "# P106 = Opccupation\n",
    "# Q1930187 = Journalist\n",
    "# P570 = date of death\n",
    "statement = \"\"\"\n",
    "SELECT DISTINCT ?person ?personLabel ?dateDeath WHERE {\n",
    "    ?person wdt:P27 wd:Q31;\n",
    "              wdt:P106 wd:Q1930187;\n",
    "          wdt:P570 ?dateDeath\n",
    "    SERVICE wikibase:label { bd:serviceParam wikibase:language \"en\" . }\n",
    "}\n",
    "ORDER BY ?personLabel\n",
    "\"\"\"\n",
    "\n",
    "sparql.setQuery(statement)\n",
    "sparql.setReturnFormat(JSON)\n",
    "results = sparql.query().convert()\n",
    "\n",
    "rows = results['results']['bindings']\n",
    "print(f\"\\n{len(rows)} Belgian Journalists found\\n\")\n",
    "print(rows[:10])"
   ]
  }
 ],
 "metadata": {
  "kernelspec": {
   "display_name": "Python 3.10.5 ('venv_tac': venv)",
   "language": "python",
   "name": "python3"
  },
  "language_info": {
   "codemirror_mode": {
    "name": "ipython",
    "version": 3
   },
   "file_extension": ".py",
   "mimetype": "text/x-python",
   "name": "python",
   "nbconvert_exporter": "python",
   "pygments_lexer": "ipython3",
   "version": "3.11.6"
  },
  "vscode": {
   "interpreter": {
    "hash": "a942b0119f0c2604d4302f32a2a6e790f63eb4c9b0c297be7a26bd56fa8e02c6"
   }
  }
 },
 "nbformat": 4,
 "nbformat_minor": 4
}
