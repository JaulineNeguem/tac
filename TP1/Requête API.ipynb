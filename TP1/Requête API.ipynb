{
 "cells": [
  {
   "cell_type": "markdown",
   "metadata": {},
   "source": [
    "# APIs: requêtes HTTP"
   ]
  },
  {
   "cell_type": "markdown",
   "metadata": {},
   "source": [
    "## Imports"
   ]
  },
  {
   "cell_type": "code",
   "execution_count": 3,
   "metadata": {},
   "outputs": [],
   "source": [
    "import json\n",
    "import requests"
   ]
  },
  {
   "cell_type": "markdown",
   "metadata": {},
   "source": [
    "## Utiliser [Nominatim](https://nominatim.org/) pour connaître les coordonnées géographiques d'une adresse"
   ]
  },
  {
   "cell_type": "code",
   "execution_count": 5,
   "metadata": {},
   "outputs": [
    {
     "name": "stdout",
     "output_type": "stream",
     "text": [
      "Coordonnéesn de  Le Soir Belgique: Latitude: 50.8483045, Longitude: 4.3629176, Address: Le Soir, Rue Royale - Koningsstraat, Quartier Marais-Jacqmain - Wijk Marais-Jacqmain, Pentagone - Vijfhoek, Bruxelles - Brussel, Ville de Bruxelles - Stad Brussel, Brussel-Hoofdstad - Bruxelles-Capitale, Région de Bruxelles-Capitale - Brussels Hoofdstedelijk Gewest, 1000, België / Belgique / Belgien\n",
      "Coordonnéesn de  La Libre Belgique: Latitude: 50.8200253, Longitude: 4.397509678806106, Address: Université libre de Bruxelles (La Plaine), Avenue Arnaud Fraiteur - Arnaud Fraiteurlaan, Cité Volta - Voltawijk, Ixelles - Elsene, Brussel-Hoofdstad - Bruxelles-Capitale, Région de Bruxelles-Capitale - Brussels Hoofdstedelijk Gewest, 1050, België / Belgique / Belgien\n",
      "Coordonnéesn de  La Meuse Belgique: Latitude: 50.347502750000004, Longitude: 4.854005189954137, Address: La Meuse, Rouillon, Anhée, Dinant, Namur, Wallonie, België / Belgique / Belgien\n"
     ]
    }
   ],
   "source": [
    "#COORDONNEES GEOGRAPHIQUE DE CERTAINS MEDIAS BELGES \n",
    "\n",
    "def get_location(query):\n",
    "    url = \"https://nominatim.openstreetmap.org/search\"\n",
    "    params = {\n",
    "        'q': query,\n",
    "        'format': 'json'\n",
    "    }\n",
    "    response = requests.get(url, params=params)\n",
    "    if response.status_code == 200:\n",
    "        return response.json()\n",
    "    else:\n",
    "        return None\n",
    "\n",
    "newspapers = [\"Le Soir Belgique\", \"La Libre Belgique\", \"La Meuse Belgique\"]\n",
    "\n",
    "for paper in newspapers:\n",
    "    location = get_location(paper)\n",
    "    if location:\n",
    "        try:\n",
    "            lat = location[0]['lat']\n",
    "            lon = location[0]['lon']\n",
    "            display_name = location[0]['display_name']\n",
    "            print(f\"Coordonnées  {paper}: Latitude: {lat}, Longitude: {lon}, Address: {display_name}\")\n",
    "        except IndexError:\n",
    "            print(f\"No location found for {paper}\")\n",
    "    else:\n",
    "        print(f\"Failed to get data for {paper}\")\n"
   ]
  }
 ],
 "metadata": {
  "kernelspec": {
   "display_name": "Python 3.10.5 ('tac_venv': venv)",
   "language": "python",
   "name": "python3"
  },
  "language_info": {
   "codemirror_mode": {
    "name": "ipython",
    "version": 3
   },
   "file_extension": ".py",
   "mimetype": "text/x-python",
   "name": "python",
   "nbconvert_exporter": "python",
   "pygments_lexer": "ipython3",
   "version": "3.11.6"
  },
  "vscode": {
   "interpreter": {
    "hash": "b1932ab1d169b4769d1550e799423b6477588e745f266d79d9004c136c81607e"
   }
  }
 },
 "nbformat": 4,
 "nbformat_minor": 4
}
